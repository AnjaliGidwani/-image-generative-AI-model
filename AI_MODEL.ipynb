{
 "cells": [
  {
   "cell_type": "code",
   "execution_count": 1,
   "id": "94e68cad-f919-4a7b-b8d6-34931ff9ed04",
   "metadata": {},
   "outputs": [],
   "source": [
    "import os"
   ]
  },
  {
   "cell_type": "code",
   "execution_count": 2,
   "id": "1c4e46e5-db4b-47e4-8ebe-bbfde0b67cbf",
   "metadata": {},
   "outputs": [],
   "source": [
    "import cv2"
   ]
  },
  {
   "cell_type": "code",
   "execution_count": 3,
   "id": "daf44765-fc38-46f2-b1f3-b0d205c85d21",
   "metadata": {},
   "outputs": [],
   "source": [
    "import numpy as np"
   ]
  },
  {
   "cell_type": "code",
   "execution_count": 4,
   "id": "35e143d7-85b0-4e42-9206-7c8470693b01",
   "metadata": {},
   "outputs": [],
   "source": [
    "from PIL import Image"
   ]
  },
  {
   "cell_type": "code",
   "execution_count": 5,
   "id": "abcd0ab9-0d95-478d-8852-7c4f475b9997",
   "metadata": {},
   "outputs": [
    {
     "name": "stderr",
     "output_type": "stream",
     "text": [
      "C:\\Users\\Anjali Gidwani\\anaconda3\\envs\\myenv\\Lib\\site-packages\\h5py\\__init__.py:36: UserWarning: h5py is running against HDF5 1.14.3 when it was built against 1.14.2, this may cause problems\n",
      "  _warn((\"h5py is running against HDF5 {0} when it was built against {1}, \"\n"
     ]
    }
   ],
   "source": [
    "from tensorflow.keras.applications import VGG19"
   ]
  },
  {
   "cell_type": "code",
   "execution_count": 6,
   "id": "be6ba8a4-6cac-4356-b7ff-e05cb6d93e7b",
   "metadata": {},
   "outputs": [],
   "source": [
    "from tensorflow.keras.applications.vgg19 import preprocess_input"
   ]
  },
  {
   "cell_type": "code",
   "execution_count": 7,
   "id": "7d08977a-b0a6-4660-8405-194231158f6e",
   "metadata": {},
   "outputs": [],
   "source": [
    "from tensorflow.keras.preprocessing import image"
   ]
  },
  {
   "cell_type": "code",
   "execution_count": 8,
   "id": "18bbf8b7-58b2-4a8e-bb44-bab65d91afb5",
   "metadata": {},
   "outputs": [],
   "source": [
    "from tensorflow.keras.models import Model"
   ]
  },
  {
   "cell_type": "code",
   "execution_count": 9,
   "id": "7a1cb3cb-1f9b-4ad0-acb3-5bdb03cb9de3",
   "metadata": {},
   "outputs": [
    {
     "name": "stdout",
     "output_type": "stream",
     "text": [
      "Downloading data from https://storage.googleapis.com/tensorflow/keras-applications/vgg19/vgg19_weights_tf_dim_ordering_tf_kernels.h5\n",
      "\u001b[1m574710816/574710816\u001b[0m \u001b[32m━━━━━━━━━━━━━━━━━━━━\u001b[0m\u001b[37m\u001b[0m \u001b[1m85s\u001b[0m 0us/step\n"
     ]
    }
   ],
   "source": [
    "base_model = VGG19(weights='imagenet')"
   ]
  },
  {
   "cell_type": "code",
   "execution_count": 10,
   "id": "18078a9b-79fa-4744-a9f5-91b6482cafce",
   "metadata": {},
   "outputs": [],
   "source": [
    "model = Model(inputs=base_model.input, outputs=base_model.get_layer('block4_conv2').output)\n"
   ]
  },
  {
   "cell_type": "code",
   "execution_count": 15,
   "id": "dc24c5d7-e3d7-47f0-97c1-58ce9d50850e",
   "metadata": {},
   "outputs": [],
   "source": [
    "image_path = r'C:\\Users\\Anjali Gidwani\\Downloads\\Marble_AI_DS_Intern_Assignment -20240427T135245Z-001\\Marble_AI_DS_Intern_Assignment\\input_product'"
   ]
  },
  {
   "cell_type": "code",
   "execution_count": 16,
   "id": "9c3cd103-5733-4658-8f47-e24d77447ca5",
   "metadata": {},
   "outputs": [
    {
     "data": {
      "text/plain": [
       "'C:\\\\Users\\\\Anjali Gidwani\\\\Downloads\\\\Marble_AI_DS_Intern_Assignment -20240427T135245Z-001\\\\Marble_AI_DS_Intern_Assignment\\\\input_product'"
      ]
     },
     "execution_count": 16,
     "metadata": {},
     "output_type": "execute_result"
    }
   ],
   "source": [
    "image_path"
   ]
  },
  {
   "cell_type": "code",
   "execution_count": 17,
   "id": "ea15175e-aca7-4750-92de-6ce04dbf7cf0",
   "metadata": {},
   "outputs": [],
   "source": [
    "def preprocess_image(img_path):\n",
    "    img = image.load_img(img_path, target_size=(224, 224))\n",
    "    img_array = image.img_to_array(img)\n",
    "    img_array = np.expand_dims(img_array, axis=0)\n",
    "    img_array = preprocess_input(img_array)\n",
    "    return img_array"
   ]
  },
  {
   "cell_type": "code",
   "execution_count": 18,
   "id": "ccf5b550-1467-4a64-8e39-5a17dd4f5d1b",
   "metadata": {},
   "outputs": [],
   "source": [
    "product_image_path = r'C:\\Users\\Anjali Gidwani\\Downloads\\Marble_AI_DS_Intern_Assignment -20240427T135245Z-001\\Marble_AI_DS_Intern_Assignment\\input_product'"
   ]
  },
  {
   "cell_type": "code",
   "execution_count": 19,
   "id": "911dc1f7-569b-4e50-a1f3-bc34f931706a",
   "metadata": {},
   "outputs": [
    {
     "data": {
      "text/plain": [
       "'C:\\\\Users\\\\Anjali Gidwani\\\\Downloads\\\\Marble_AI_DS_Intern_Assignment -20240427T135245Z-001\\\\Marble_AI_DS_Intern_Assignment\\\\input_product'"
      ]
     },
     "execution_count": 19,
     "metadata": {},
     "output_type": "execute_result"
    }
   ],
   "source": [
    "product_image_path"
   ]
  },
  {
   "cell_type": "code",
   "execution_count": 81,
   "id": "b22c4cdf-cb8a-4c1e-9471-49b12a5b4cbd",
   "metadata": {},
   "outputs": [],
   "source": [
    "background_image_path = r'C:\\Users\\Anjali Gidwani\\Downloads\\Marble_AI_DS_Intern_Assignment -20240427T135245Z-001\\Marble_AI_DS_Intern_Assignment\\Background'"
   ]
  },
  {
   "cell_type": "code",
   "execution_count": 82,
   "id": "f26eb6d9-4f56-456f-a85f-56d46feb1035",
   "metadata": {},
   "outputs": [
    {
     "data": {
      "text/plain": [
       "'C:\\\\Users\\\\Anjali Gidwani\\\\Downloads\\\\Marble_AI_DS_Intern_Assignment -20240427T135245Z-001\\\\Marble_AI_DS_Intern_Assignment\\\\Background'"
      ]
     },
     "execution_count": 82,
     "metadata": {},
     "output_type": "execute_result"
    }
   ],
   "source": [
    "background_image_path"
   ]
  },
  {
   "cell_type": "code",
   "execution_count": 179,
   "id": "d5595be3-e4cc-46bd-a24d-3e52caa114f6",
   "metadata": {},
   "outputs": [],
   "source": [
    "def generate_output_images(product_image_path, background_image_path):\n",
    "    # Load and preprocess product and background images\n",
    "    product_img = cv2.imread(product_image_path)\n",
    "    product_img_rgb = cv2.cvtColor(product_img, cv2.COLOR_BGR2RGB)\n",
    "    \n",
    "    background_img = cv2.imread(background_image_path)\n",
    "    background_img_rgb = cv2.cvtColor(background_img, cv2.COLOR_BGR2RGB)\n",
    "    \n",
    "    # Resize background image to match product image size\n",
    "    background_img_resized = cv2.resize(background_img_rgb, (product_img_rgb.shape[1], product_img_rgb.shape[0]))\n",
    "    \n",
    "    # Create a mask for blending\n",
    "    mask = 255 * np.ones(product_img_rgb.shape, product_img_rgb.dtype)\n",
    "    \n",
    "    # Compute center position for blending\n",
    "    center = (product_img_rgb.shape[1] // 2, product_img_rgb.shape[0] // 2)\n",
    "    \n",
    "    # Perform seamless cloning for blending\n",
    "    try:\n",
    "        blended_output = cv2.seamlessClone(product_img_rgb, background_img_resized, mask, center, cv2.NORMAL_CLONE)\n",
    "    except cv2.error as e:\n",
    "        print(\"Error during blending:\", e)\n",
    "        return\n",
    "\n",
    "    # Save the generated output image\n",
    "    output_path = r'C:\\Users\\Anjali Gidwani\\Downloads\\Marble_AI_DS_Intern_Assignment -20240427T135245Z-001\\Marble_AI_DS_Intern_Assignment\\output_image' + os.path.basename(product_image_path) + '_' + os.path.basename(background_image_path)\n",
    "    cv2.imwrite(output_path, cv2.cvtColor(blended_output, cv2.COLOR_RGB2BGR))\n"
   ]
  },
  {
   "cell_type": "code",
   "execution_count": 180,
   "id": "a36dd95a-cb88-45f1-a1e3-f5dc035d9055",
   "metadata": {},
   "outputs": [],
   "source": [
    "product_images_folder = r'C:\\Users\\Anjali Gidwani\\Downloads\\Marble_AI_DS_Intern_Assignment -20240427T135245Z-001\\Marble_AI_DS_Intern_Assignment\\input_product'"
   ]
  },
  {
   "cell_type": "code",
   "execution_count": 181,
   "id": "a8ad09e0-c2d4-4b26-8735-818f4de960b8",
   "metadata": {},
   "outputs": [
    {
     "data": {
      "text/plain": [
       "'C:\\\\Users\\\\Anjali Gidwani\\\\Downloads\\\\Marble_AI_DS_Intern_Assignment -20240427T135245Z-001\\\\Marble_AI_DS_Intern_Assignment\\\\input_product'"
      ]
     },
     "execution_count": 181,
     "metadata": {},
     "output_type": "execute_result"
    }
   ],
   "source": [
    "product_images_folder"
   ]
  },
  {
   "cell_type": "code",
   "execution_count": 182,
   "id": "2748766d-312e-467a-a583-883569ae8d7f",
   "metadata": {},
   "outputs": [],
   "source": [
    "background_images_folder = r'C:\\Users\\Anjali Gidwani\\Downloads\\Marble_AI_DS_Intern_Assignment -20240427T135245Z-001\\Marble_AI_DS_Intern_Assignment\\Background'"
   ]
  },
  {
   "cell_type": "code",
   "execution_count": 183,
   "id": "9e6100dc-8c23-4f41-bb6d-9026e36ce8a4",
   "metadata": {},
   "outputs": [
    {
     "data": {
      "text/plain": [
       "'C:\\\\Users\\\\Anjali Gidwani\\\\Downloads\\\\Marble_AI_DS_Intern_Assignment -20240427T135245Z-001\\\\Marble_AI_DS_Intern_Assignment\\\\Background'"
      ]
     },
     "execution_count": 183,
     "metadata": {},
     "output_type": "execute_result"
    }
   ],
   "source": [
    "background_images_folder"
   ]
  },
  {
   "cell_type": "code",
   "execution_count": 184,
   "id": "0cd68c4f-e381-455b-ac31-a85946b1ab6b",
   "metadata": {},
   "outputs": [],
   "source": [
    "output_folder = r'C:\\Users\\Anjali Gidwani\\Downloads\\Marble_AI_DS_Intern_Assignment -20240427T135245Z-001\\Marble_AI_DS_Intern_Assignment\\output_image'"
   ]
  },
  {
   "cell_type": "code",
   "execution_count": 185,
   "id": "44bfe319-95d1-4e8b-b7f1-89c73866efec",
   "metadata": {},
   "outputs": [],
   "source": [
    "if not os.path.exists(output_folder):\n",
    "    os.makedirs(output_folder)"
   ]
  },
  {
   "cell_type": "code",
   "execution_count": null,
   "id": "0bfd4dc0-576a-438a-84e2-97644f5a89ec",
   "metadata": {},
   "outputs": [],
   "source": [
    "for product_image in os.listdir(product_images_folder):\n",
    "    for background_image in os.listdir(background_images_folder):\n",
    "        generate_output_images(os.path.join(product_images_folder, product_image), os.path.join(background_images_folder, background_image))"
   ]
  }
 ],
 "metadata": {
  "kernelspec": {
   "display_name": "Python 3 (ipykernel)",
   "language": "python",
   "name": "python3"
  },
  "language_info": {
   "codemirror_mode": {
    "name": "ipython",
    "version": 3
   },
   "file_extension": ".py",
   "mimetype": "text/x-python",
   "name": "python",
   "nbconvert_exporter": "python",
   "pygments_lexer": "ipython3",
   "version": "3.12.3"
  }
 },
 "nbformat": 4,
 "nbformat_minor": 5
}
